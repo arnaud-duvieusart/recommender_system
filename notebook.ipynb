{
 "cells": [
  {
   "cell_type": "markdown",
   "metadata": {},
   "source": [
    "## Imports ##"
   ]
  },
  {
   "cell_type": "code",
   "execution_count": 1,
   "metadata": {},
   "outputs": [],
   "source": [
    "import os\n",
    "import csv\n",
    "import pandas as pd\n",
    "import numpy as np\n",
    "import math\n",
    "import datetime\n",
    "from numpy import linalg\n",
    "\n",
    "\n",
    "from __future__ import (absolute_import, division, print_function,\n",
    "                        unicode_literals)\n",
    "\n",
    "# Models\n",
    "from surprise import KNNBaseline, BaselineOnly\n",
    "from surprise import SVD, SVDpp, NMF, SlopeOne, CoClustering\n",
    "\n",
    "\n",
    "from surprise import Dataset\n",
    "from surprise import accuracy\n",
    "from surprise.model_selection import train_test_split, cross_validate, GridSearchCV\n",
    "from surprise import Reader\n",
    "import matplotlib.pyplot as plt\n",
    "import pickle"
   ]
  },
  {
   "cell_type": "code",
   "execution_count": 235,
   "metadata": {},
   "outputs": [],
   "source": [
    "def plot(errors, names=[]):\n",
    "    \n",
    "    for error in errors:\n",
    "        x, y = zip(*error)    \n",
    "        plt.plot(np.array(x), np.array(y), 'o-')\n",
    "    \n",
    "    plt.legend(names, loc='upper left')\n",
    "    plt.ylabel('RMSE')\n",
    "    plt.xlabel('n factors')\n",
    "\n",
    "    plt.show()\n",
    "    \n",
    "\n",
    "def save(liste, name=\"errors\"):\n",
    "    with open(name, 'wb') as fp:\n",
    "        pickle.dump(liste, fp)\n",
    "\n",
    "def read(name=\"errors\"):\n",
    "    with open (name, 'rb') as fp:\n",
    "        return pickle.load(fp)\n",
    "    \n",
    "def create_submission(algo):\n",
    "    data = Dataset.load_from_df(df[['people', 'movies', 'Prediction']], reader)\n",
    "    trainset = data.build_full_trainset()\n",
    "    algo.fit(trainset)\n",
    "    submission = toPredict[['people', 'movies', 'Prediction']].values.tolist()\n",
    "    submission_pred = algo.test(submission)\n",
    "    data = {'Id': ['r' + str(submission_pred[0].iid) + '_c' + str(submission_pred[0].uid)], 'Prediction': [str(submission_pred[0].est)]}\n",
    "    for i in range(1, len(submission_pred)):\n",
    "        data['Id'].append('r{0}_c{1}'.format(movies[i], peoples[i]))\n",
    "        data['Prediction'].append(str(submission_pred[i].est))\n",
    "    \n",
    "    submission_df = pd.DataFrame(data).rename(columns={0 : 'Id', 1 : 'Prediction'})    \n",
    "    submission_df.Prediction = [round(float(val)) for val in submission_df.Prediction.values]\n",
    "    submission_df.to_csv(relative_path + '/submission.csv')"
   ]
  },
  {
   "cell_type": "markdown",
   "metadata": {},
   "source": [
    "## Importing and formating ##"
   ]
  },
  {
   "cell_type": "code",
   "execution_count": 67,
   "metadata": {},
   "outputs": [],
   "source": [
    "relative_path = os.getcwd() + \"/data\"\n",
    "\n",
    "df = pd.read_csv(relative_path + '/data_train.csv').set_index(\"Id\")\n",
    "movies, people = zip(*[tuple(int(x[1:]) for x in x.split(\"_\")) for x in df.index.values])\n",
    "df[\"movies\"] = movies\n",
    "df[\"people\"] = people\n",
    "df = df.reset_index().drop(columns=[\"Id\"])\n",
    "\n",
    "predictions = pd.read_csv(relative_path + '/sample_submission.csv').set_index(\"Id\")\n",
    "toPredict = predictions.copy()\n",
    "movies, people = zip(*[tuple(int(x[1:]) for x in x.split(\"_\")) for x in toPredict.index.values])\n",
    "toPredict[\"movies\"] = movies\n",
    "toPredict[\"people\"] = people\n",
    "toPredict = toPredict.reset_index().drop(columns=[\"Id\"])\n",
    "\n",
    "# Initializing Dataset\n",
    "reader = Reader(rating_scale=(1, 5))\n",
    "data = Dataset.load_from_df(df[['people', 'movies', 'Prediction']], reader)"
   ]
  },
  {
   "cell_type": "code",
   "execution_count": 68,
   "metadata": {},
   "outputs": [
    {
     "name": "stdout",
     "output_type": "stream",
     "text": [
      "En moyenne, on a 1176.952 movies per people\n",
      "En moyenne, on a 117.6952 people per movie\n",
      "10000 movies and 1000 users\n"
     ]
    }
   ],
   "source": [
    "# Nombre moyen de movies par people\n",
    "tmp = df.groupby(df.people).count()\n",
    "res = sum(tmp.movies.values)/tmp.count()[0]\n",
    "print(\"En moyenne, on a {} movies per people\".format(res))\n",
    "\n",
    "# Nombre moyen de movies par people\n",
    "tmp = df.groupby(df.movies).count()\n",
    "res = sum(tmp.people.values)/tmp.count()[0]\n",
    "print(\"En moyenne, on a {} people per movie\".format(res))\n",
    "\n",
    "print(\"{0} movies and {1} users\".format(len(df.movies.unique()), len(df.people.unique()))) "
   ]
  },
  {
   "cell_type": "code",
   "execution_count": 25,
   "metadata": {},
   "outputs": [
    {
     "data": {
      "image/png": "[encoded data removed]",
      "text/plain": [
       "<matplotlib.figure.Figure at 0x112d01da0>"
      ]
     },
     "metadata": {},
     "output_type": "display_data"
    }
   ],
   "source": [
    "names = [\"Biased\", \"Unbiased\", \"Biased_50_epochs\"]\n",
    "errors = [read(\"tmp/\"+name) for name in names]\n",
    "plot(errors, names)"
   ]
  },
  {
   "cell_type": "markdown",
   "metadata": {},
   "source": [
    "## Grid Search on every model"
   ]
  },
  {
   "cell_type": "code",
   "execution_count": 113,
   "metadata": {},
   "outputs": [],
   "source": [
    "SVD_param_grid = {'n_epochs': [400, 600],\n",
    "                  'n_factors': [60],\n",
    "                  'lr_all': [0.0018, 0.0014, 0.001],\n",
    "                  'reg_all': [0.1]}\n",
    "\n",
    "NMF_param_grid = {'n_epochs': [100, 150],  \n",
    "                  'n_factors': [10, 15, 20]}\n",
    "\n",
    "KNNBaseline_param_grid = {'bsl_options': {'method': ['als', 'sgd'],\n",
    "                              'reg': [1, 2]},\n",
    "              'k': [30, 50, 70],\n",
    "              'sim_options': {'name': ['msd', 'cosine'],\n",
    "                              'min_support': [1, 5],\n",
    "                              'user_based': [False, True]}\n",
    "              }\n",
    "\n",
    "CoClustering_param_grid = {'n_cltr_u': [3, 4, 5],  \n",
    "                  'n_cltr_i': [3, 4, 5], \n",
    "                 'n_epochs': [25, 50, 100]}\n",
    "\n",
    "\n",
    "models = [(SVD, SVD_param_grid), (NMF, NMF_param_grid), (SlopeOne, {}), \n",
    "           (KNNBaseline, KNNBaseline_param_grid), (CoClustering, CoClustering_param_grid)]"
   ]
  },
  {
   "cell_type": "code",
   "execution_count": 114,
   "metadata": {
    "scrolled": true
   },
   "outputs": [
    {
     "name": "stdout",
     "output_type": "stream",
     "text": [
      "Testing <class 'surprise.prediction_algorithms.matrix_factorization.SVD'>\n"
     ]
    },
    {
     "name": "stderr",
     "output_type": "stream",
     "text": [
      "[Parallel(n_jobs=-1)]: Using backend LokyBackend with 8 concurrent workers.\n",
      "[Parallel(n_jobs=-1)]: Done   9 tasks      | elapsed: 80.1min\n",
      "[Parallel(n_jobs=-1)]: Done  23 out of  30 | elapsed: 150.7min remaining: 45.9min\n"
     ]
    },
    {
     "name": "stdout",
     "output_type": "stream",
     "text": [
      "0.9849581670928996\n",
      "{'n_epochs': 400, 'n_factors': 60, 'lr_all': 0.0018, 'reg_all': 0.1}\n"
     ]
    },
    {
     "name": "stderr",
     "output_type": "stream",
     "text": [
      "[Parallel(n_jobs=-1)]: Done  30 out of  30 | elapsed: 201.2min finished\n"
     ]
    }
   ],
   "source": [
    "all_dfs = []\n",
    "\n",
    "for (algo, param_grid) in models:\n",
    "    \n",
    "    print(\"Testing {}\".format(algo))\n",
    "    gs = GridSearchCV(algo, param_grid, measures=['rmse'], cv=5, joblib_verbose=4, n_jobs=-1)\n",
    "    gs.fit(data)\n",
    "\n",
    "    # best RMSE score\n",
    "    print(gs.best_score['rmse'])\n",
    "\n",
    "    # combination of parameters that gave the best RMSE score\n",
    "    print(gs.best_params['rmse'])\n",
    "    \n",
    "    # Saving all data into a df\n",
    "    results_df = pd.DataFrame.from_dict(gs.cv_results)\n",
    "    results_df.to_csv(\"GRID_SEARCH_{}12\".format(algo))\n",
    "    all_dfs.append((algo, results_df))"
   ]
  },
  {
   "cell_type": "code",
   "execution_count": null,
   "metadata": {},
   "outputs": [],
   "source": [
    "def create_best_svd():\n",
    "    algo = SVD(n_epochs=1, n_factors=60, lr_all=0.005, reg_all=0.1, verbose=True)\n",
    "    create_submission(algo)"
   ]
  },
  {
   "cell_type": "markdown",
   "metadata": {},
   "source": [
    "### Neural Netowork"
   ]
  },
  {
   "cell_type": "code",
   "execution_count": 346,
   "metadata": {},
   "outputs": [],
   "source": [
    "from sklearn.model_selection import train_test_split, StratifiedKFold\n",
    "import keras\n",
    "from IPython.display import SVG\n",
    "from keras.optimizers import Adam\n",
    "# from keras.utils.vis_utils import model_to_dot\n",
    "from sklearn.metrics import mean_absolute_error\n",
    "from keras.regularizers import l2\n",
    "from keras.models import model_from_json"
   ]
  },
  {
   "cell_type": "code",
   "execution_count": 216,
   "metadata": {},
   "outputs": [
    {
     "name": "stdout",
     "output_type": "stream",
     "text": [
      "10000 movies and 1000 users\n"
     ]
    },
    {
     "data": {
      "text/html": [
       "<div>\n",
       "<style scoped>\n",
       "    .dataframe tbody tr th:only-of-type {\n",
       "        vertical-align: middle;\n",
       "    }\n",
       "\n",
       "    .dataframe tbody tr th {\n",
       "        vertical-align: top;\n",
       "    }\n",
       "\n",
       "    .dataframe thead th {\n",
       "        text-align: right;\n",
       "    }\n",
       "</style>\n",
       "<table border=\"1\" class=\"dataframe\">\n",
       "  <thead>\n",
       "    <tr style=\"text-align: right;\">\n",
       "      <th></th>\n",
       "      <th>rating</th>\n",
       "      <th>item_id</th>\n",
       "      <th>user_id</th>\n",
       "    </tr>\n",
       "  </thead>\n",
       "  <tbody>\n",
       "    <tr>\n",
       "      <th>0</th>\n",
       "      <td>4</td>\n",
       "      <td>44</td>\n",
       "      <td>1</td>\n",
       "    </tr>\n",
       "    <tr>\n",
       "      <th>1</th>\n",
       "      <td>3</td>\n",
       "      <td>61</td>\n",
       "      <td>1</td>\n",
       "    </tr>\n",
       "    <tr>\n",
       "      <th>2</th>\n",
       "      <td>4</td>\n",
       "      <td>67</td>\n",
       "      <td>1</td>\n",
       "    </tr>\n",
       "    <tr>\n",
       "      <th>3</th>\n",
       "      <td>3</td>\n",
       "      <td>72</td>\n",
       "      <td>1</td>\n",
       "    </tr>\n",
       "    <tr>\n",
       "      <th>4</th>\n",
       "      <td>5</td>\n",
       "      <td>86</td>\n",
       "      <td>1</td>\n",
       "    </tr>\n",
       "  </tbody>\n",
       "</table>\n",
       "</div>"
      ],
      "text/plain": [
       "   rating  item_id  user_id\n",
       "0       4       44        1\n",
       "1       3       61        1\n",
       "2       4       67        1\n",
       "3       3       72        1\n",
       "4       5       86        1"
      ]
     },
     "execution_count": 216,
     "metadata": {},
     "output_type": "execute_result"
    }
   ],
   "source": [
    "relative_path = os.getcwd() + \"/data\"\n",
    "\n",
    "dataset = pd.read_csv(relative_path + '/data_train.csv').set_index(\"Id\")\n",
    "movies, people = zip(*[tuple(int(x[1:]) for x in x.split(\"_\")) for x in dataset.index.values])\n",
    "dataset[\"item_id\"] = movies\n",
    "dataset[\"user_id\"] = people\n",
    "dataset = dataset.reset_index().drop(columns=[\"Id\"]).rename(columns={\"Prediction\":\"rating\"})"
   ]
  },
  {
   "cell_type": "code",
   "execution_count": 409,
   "metadata": {},
   "outputs": [],
   "source": [
    "# Create submission file given a trained model\n",
    "def submission_nn(model):\n",
    "    submission = toPredict[['people', 'movies', 'Prediction']].values.tolist()\n",
    "    peoples, movies, _ = list(map(list, zip(*submission)))\n",
    "\n",
    "    grades = [max(min(c[0], 5), 1) for c in np.round(model.predict([peoples, movies]),0)]\n",
    "\n",
    "    data = {'Id': [], 'Prediction': []}\n",
    "    for i in range(len(grades)):\n",
    "        data['Id'].append('r{0}_c{1}'.format(movies[i], peoples[i]))\n",
    "        data['Prediction'].append(str(grades[i]))\n",
    "\n",
    "    submission_df = pd.DataFrame(data).rename(columns={0 : 'Id', 1 : 'Prediction'}).set_index(\"Id\")    \n",
    "    submission_df.Prediction = [round(float(val)) for val in submission_df.Prediction.values]\n",
    "    submission_df.to_csv(relative_path + '/submission.csv')\n",
    "    return submission_df\n",
    "\n",
    "# Simple network\n",
    "def dot_product_network(dropout=0.5):\n",
    "    # Matrix factorisation in Keras\n",
    "    n_users, n_movies = len(dataset.user_id.unique()), len(dataset.item_id.unique())\n",
    "    \n",
    "    features = int(60*(1 + dropout))\n",
    "    \n",
    "    # Creating movie input\n",
    "    movie_input = keras.layers.Input(shape=[1],name='Item')\n",
    "    \n",
    "    movie_embedding = keras.layers.Embedding(n_movies + 1, features, name='Movie-Embedding')(movie_input)\n",
    "    movie_vec = keras.layers.Flatten(name='FlattenMovies')(movie_embedding)\n",
    "    movie_drop = keras.layers.Dropout(dropout)(movie_vec)\n",
    "\n",
    "    # Creating user input\n",
    "    user_input = keras.layers.Input(shape=[1],name='User')\n",
    "    user_embedding = keras.layers.Embedding(n_users + 1, features, name='User-Embedding')(user_input)\n",
    "    user_vec = keras.layers.Flatten(name='FlattenUsers')(user_embedding)\n",
    "    user_drop = keras.layers.Dropout(dropout)(user_vec)\n",
    "\n",
    "    # Merging\n",
    "    prod = keras.layers.Dot(axes=1)([movie_drop, user_drop])\n",
    "\n",
    "    model = keras.Model([user_input, movie_input], prod)\n",
    "    model.compile('adam', 'mean_squared_error')\n",
    "    \n",
    "    return model\n",
    "\n",
    "# More complex network (allowing non-linear combining of features vectors)\n",
    "def concat_network(dropout=0.3):\n",
    "    n_latent_factors_user = int(60*(1+dropout))\n",
    "    n_latent_factors_movie = int(60*(1+dropout))\n",
    "\n",
    "    n_users, n_movies = len(dataset.user_id.unique()), len(dataset.item_id.unique())\n",
    "\n",
    "    movie_input = keras.layers.Input(shape=[1],name='Item')\n",
    "    movie_embedding = keras.layers.Embedding(n_movies + 1, n_latent_factors_movie, name='Movie-Embedding')(movie_input)\n",
    "    movie_vec = keras.layers.Flatten(name='FlattenMovies')(movie_embedding)\n",
    "    movie_vec = keras.layers.Dropout(dropout)(movie_vec)\n",
    "\n",
    "\n",
    "    user_input = keras.layers.Input(shape=[1],name='User')\n",
    "    user_embedding = keras.layers.Embedding(n_users + 1, n_latent_factors_user,name='User-Embedding')(user_input)\n",
    "    user_vec = keras.layers.Flatten(name='FlattenUsers')(user_embedding)\n",
    "    user_vec = keras.layers.Dropout(dropout)(user_vec)\n",
    "\n",
    "    concat = keras.layers.Concatenate()([movie_vec, user_vec])\n",
    "    dense = keras.layers.Dense(200,name='FullyConnected')(concat)\n",
    "    dropout_1 = keras.layers.Dropout(0.2,name='Dropout')(dense)\n",
    "    dense_4 = keras.layers.Dense(20,name='FullyConnected-3', activation='relu')(dropout_1)\n",
    "\n",
    "\n",
    "    result = keras.layers.Dense(1, activation='relu',name='Activation')(dense_4)\n",
    "    adam = Adam(lr=0.005)\n",
    "    model = keras.Model([user_input, movie_input], result)\n",
    "    model.compile(optimizer=adam,loss= 'mean_absolute_error')\n",
    "\n",
    "    return model\n",
    "\n",
    "\n",
    "# Plot learning curves\n",
    "def plot_history(name): \n",
    "    history = read(name)\n",
    "    pd.Series(history['loss']).plot(logy=True)\n",
    "    ax = pd.Series(history['val_loss']).plot(logy=True)\n",
    "    ax.legend(['Training Loss', 'Validation Loss'])\n",
    "    plt.xlabel(\"Epoch\")\n",
    "    plt.ylabel(\"Train Error\")\n",
    "    plt.plot()\n",
    "    \n",
    "def test_model(df, model):\n",
    "    y_hat = [max(min(c[0], 5), 1) for c in np.round(model.predict([df.user_id, df.item_id]),0)]\n",
    "    y_true = df.rating\n",
    "    print(\"MAE: {}\".format(mean_absolute_error(y_true, y_hat)))\n",
    "\n",
    "def save_model(model, name):\n",
    "    model_json = model.to_json()\n",
    "    with open(\"{}.json\".format(name), \"w\") as json_file:\n",
    "        json_file.write(model_json)\n",
    "    model.save_weights(\"{}.h5\".format(name))\n",
    "    \n",
    "    \n",
    "def read_model(name): \n",
    "    json_file = open('{}.json'.format(name), 'r')\n",
    "    loaded_model_json = json_file.read()\n",
    "    json_file.close()\n",
    "    loaded_model = model_from_json(loaded_model_json)\n",
    "    loaded_model.load_weights(\"{}.h5\".format(name))\n",
    "    return loaded_model\n",
    "\n",
    "def create_best_nn():\n",
    "    model = concat_network()\n",
    "    model.fit([dataset.user_id, dataset.item_id], dataset.rating, epochs=30, verbose=1)\n",
    "    submission_nn(model)"
   ]
  },
  {
   "cell_type": "markdown",
   "metadata": {},
   "source": [
    "#### Grid Search"
   ]
  },
  {
   "cell_type": "code",
   "execution_count": 363,
   "metadata": {
    "scrolled": true
   },
   "outputs": [
    {
     "name": "stdout",
     "output_type": "stream",
     "text": [
      "Train on 941561 samples, validate on 235391 samples\n",
      "Epoch 1/40\n",
      "941561/941561 [==============================] - 152s 161us/step - loss: 3.7480 - val_loss: 1.1527\n",
      "Epoch 2/40\n",
      "941561/941561 [==============================] - 155s 165us/step - loss: 1.4475 - val_loss: 1.1374\n",
      "Epoch 3/40\n",
      "941561/941561 [==============================] - 159s 169us/step - loss: 1.4195 - val_loss: 1.1215\n",
      "Epoch 4/40\n",
      "941561/941561 [==============================] - 165s 175us/step - loss: 1.3979 - val_loss: 1.1163\n",
      "Epoch 5/40\n",
      "941561/941561 [==============================] - 177s 188us/step - loss: 1.3851 - val_loss: 1.1090\n",
      "Epoch 6/40\n",
      "941561/941561 [==============================] - 168s 178us/step - loss: 1.3768 - val_loss: 1.1017\n",
      "Epoch 7/40\n",
      "941561/941561 [==============================] - 180s 191us/step - loss: 1.3698 - val_loss: 1.1039\n",
      "Epoch 8/40\n",
      "941561/941561 [==============================] - 178s 189us/step - loss: 1.3672 - val_loss: 1.0974\n",
      "Epoch 9/40\n",
      "941561/941561 [==============================] - 181s 193us/step - loss: 1.3653 - val_loss: 1.0947\n",
      "Epoch 10/40\n",
      "941561/941561 [==============================] - 182s 193us/step - loss: 1.3650 - val_loss: 1.0928\n",
      "Epoch 11/40\n",
      "941561/941561 [==============================] - 189s 201us/step - loss: 1.3626 - val_loss: 1.0948\n",
      "Epoch 12/40\n",
      "941561/941561 [==============================] - 183s 194us/step - loss: 1.3644 - val_loss: 1.0947\n",
      "Epoch 13/40\n",
      "941561/941561 [==============================] - 187s 199us/step - loss: 1.3667 - val_loss: 1.1018\n",
      "Epoch 14/40\n",
      "941561/941561 [==============================] - 177s 188us/step - loss: 1.3675 - val_loss: 1.0926\n",
      "Epoch 15/40\n",
      "941561/941561 [==============================] - 179s 190us/step - loss: 1.3688 - val_loss: 1.0948\n",
      "Epoch 16/40\n",
      "941561/941561 [==============================] - 206s 219us/step - loss: 1.3719 - val_loss: 1.0960\n",
      "Epoch 17/40\n",
      "941561/941561 [==============================] - 210s 223us/step - loss: 1.3737 - val_loss: 1.0971\n",
      "Epoch 18/40\n",
      "941561/941561 [==============================] - 180s 192us/step - loss: 1.3715 - val_loss: 1.1049\n",
      "Epoch 19/40\n",
      "941561/941561 [==============================] - 179s 190us/step - loss: 1.3740 - val_loss: 1.0993\n",
      "Epoch 20/40\n",
      "941561/941561 [==============================] - 171s 182us/step - loss: 1.3763 - val_loss: 1.0942\n",
      "Epoch 21/40\n",
      "941561/941561 [==============================] - 177s 188us/step - loss: 1.3784 - val_loss: 1.1079\n",
      "Epoch 22/40\n",
      "941561/941561 [==============================] - 175s 186us/step - loss: 1.3782 - val_loss: 1.1031\n",
      "Epoch 23/40\n",
      "941561/941561 [==============================] - 173s 184us/step - loss: 1.3789 - val_loss: 1.1066\n",
      "Epoch 24/40\n",
      "941561/941561 [==============================] - 373s 396us/step - loss: 1.3808 - val_loss: 1.1138\n",
      "Epoch 25/40\n",
      "941561/941561 [==============================] - 158s 167us/step - loss: 1.3856 - val_loss: 1.1040\n",
      "Epoch 26/40\n",
      "941561/941561 [==============================] - 154s 164us/step - loss: 1.3836 - val_loss: 1.1054\n",
      "Epoch 27/40\n",
      "941561/941561 [==============================] - 155s 164us/step - loss: 1.3840 - val_loss: 1.1065\n",
      "Epoch 28/40\n",
      "941561/941561 [==============================] - 158s 168us/step - loss: 1.3882 - val_loss: 1.1070\n",
      "Epoch 29/40\n",
      "941561/941561 [==============================] - 175s 186us/step - loss: 1.3871 - val_loss: 1.1122\n",
      "Epoch 30/40\n",
      "941561/941561 [==============================] - 304s 323us/step - loss: 1.3900 - val_loss: 1.1165\n",
      "Epoch 31/40\n",
      "941561/941561 [==============================] - 290s 308us/step - loss: 1.3906 - val_loss: 1.1074\n",
      "Epoch 32/40\n",
      "941561/941561 [==============================] - 351s 372us/step - loss: 1.3916 - val_loss: 1.1038\n",
      "Epoch 33/40\n",
      "941561/941561 [==============================] - 356s 378us/step - loss: 1.3937 - val_loss: 1.1141\n",
      "Epoch 34/40\n",
      "941561/941561 [==============================] - 291s 309us/step - loss: 1.3939 - val_loss: 1.1183\n",
      "Epoch 35/40\n",
      "941561/941561 [==============================] - 160s 169us/step - loss: 1.3943 - val_loss: 1.1137\n",
      "Epoch 36/40\n",
      "941561/941561 [==============================] - 173s 184us/step - loss: 1.3959 - val_loss: 1.1130\n",
      "Epoch 37/40\n",
      "941561/941561 [==============================] - 177s 187us/step - loss: 1.3984 - val_loss: 1.1183\n",
      "Epoch 38/40\n",
      "941561/941561 [==============================] - 185s 196us/step - loss: 1.3964 - val_loss: 1.1193\n",
      "Epoch 39/40\n",
      "941561/941561 [==============================] - 179s 190us/step - loss: 1.3989 - val_loss: 1.1113\n",
      "Epoch 40/40\n",
      "941561/941561 [==============================] - 183s 195us/step - loss: 1.4009 - val_loss: 1.1103\n",
      "((78, 78), (0.3, 0.3))\n",
      "Train on 941561 samples, validate on 235391 samples\n",
      "Epoch 1/40\n",
      "941561/941561 [==============================] - 214s 227us/step - loss: 4.5424 - val_loss: 1.1583\n",
      "Epoch 2/40\n",
      "941561/941561 [==============================] - 188s 199us/step - loss: 1.6399 - val_loss: 1.1349\n",
      "Epoch 3/40\n",
      "941561/941561 [==============================] - 181s 192us/step - loss: 1.6125 - val_loss: 1.1239\n",
      "Epoch 4/40\n",
      "941561/941561 [==============================] - 191s 202us/step - loss: 1.5977 - val_loss: 1.1168\n",
      "Epoch 5/40\n",
      "941561/941561 [==============================] - 184s 195us/step - loss: 1.5824 - val_loss: 1.1057\n",
      "Epoch 6/40\n",
      "941561/941561 [==============================] - 186s 198us/step - loss: 1.5768 - val_loss: 1.1069\n",
      "Epoch 7/40\n",
      "941561/941561 [==============================] - 180s 192us/step - loss: 1.5713 - val_loss: 1.1016\n",
      "Epoch 8/40\n",
      "941561/941561 [==============================] - 1180s 1ms/step - loss: 1.5710 - val_loss: 1.1097\n",
      "Epoch 9/40\n",
      "941561/941561 [==============================] - 175s 186us/step - loss: 1.5725 - val_loss: 1.1004\n",
      "Epoch 10/40\n",
      "941561/941561 [==============================] - 189s 200us/step - loss: 1.5715 - val_loss: 1.1061\n",
      "Epoch 11/40\n",
      "941561/941561 [==============================] - 158s 168us/step - loss: 1.5786 - val_loss: 1.1055\n",
      "Epoch 12/40\n",
      "941561/941561 [==============================] - 164s 174us/step - loss: 1.5777 - val_loss: 1.1029\n",
      "Epoch 13/40\n",
      "941561/941561 [==============================] - 159s 169us/step - loss: 1.5808 - val_loss: 1.1019\n",
      "Epoch 14/40\n",
      "941561/941561 [==============================] - 158s 168us/step - loss: 1.5862 - val_loss: 1.1026\n",
      "Epoch 15/40\n",
      "941561/941561 [==============================] - 154s 164us/step - loss: 1.5866 - val_loss: 1.1084\n",
      "Epoch 16/40\n",
      "941561/941561 [==============================] - 164s 174us/step - loss: 1.5885 - val_loss: 1.1018\n",
      "Epoch 17/40\n",
      "941561/941561 [==============================] - 177s 188us/step - loss: 1.5952 - val_loss: 1.1075\n",
      "Epoch 18/40\n",
      "941561/941561 [==============================] - 154s 164us/step - loss: 1.5933 - val_loss: 1.1041\n",
      "Epoch 19/40\n",
      "941561/941561 [==============================] - 151s 160us/step - loss: 1.5994 - val_loss: 1.1050\n",
      "Epoch 20/40\n",
      "941561/941561 [==============================] - 151s 160us/step - loss: 1.6024 - val_loss: 1.1107\n",
      "Epoch 21/40\n",
      "941561/941561 [==============================] - 151s 160us/step - loss: 1.6052 - val_loss: 1.1162\n",
      "Epoch 22/40\n",
      "941561/941561 [==============================] - 151s 160us/step - loss: 1.6104 - val_loss: 1.1129\n",
      "Epoch 23/40\n",
      "941561/941561 [==============================] - 153s 163us/step - loss: 1.6147 - val_loss: 1.1128\n",
      "Epoch 24/40\n",
      "941561/941561 [==============================] - 159s 168us/step - loss: 1.6170 - val_loss: 1.1173\n",
      "Epoch 25/40\n",
      "941561/941561 [==============================] - 161s 171us/step - loss: 1.6195 - val_loss: 1.1136\n",
      "Epoch 26/40\n",
      "941561/941561 [==============================] - 161s 171us/step - loss: 1.6228 - val_loss: 1.1227\n",
      "Epoch 27/40\n",
      "941561/941561 [==============================] - 161s 171us/step - loss: 1.6242 - val_loss: 1.1112\n",
      "Epoch 28/40\n",
      "941561/941561 [==============================] - 167s 178us/step - loss: 1.6265 - val_loss: 1.1149\n",
      "Epoch 29/40\n",
      "941561/941561 [==============================] - 166s 176us/step - loss: 1.6285 - val_loss: 1.1180\n",
      "Epoch 30/40\n",
      "941561/941561 [==============================] - 164s 174us/step - loss: 1.6323 - val_loss: 1.1236\n",
      "Epoch 31/40\n",
      "941561/941561 [==============================] - 159s 169us/step - loss: 1.6346 - val_loss: 1.1184\n",
      "Epoch 32/40\n",
      "941561/941561 [==============================] - 162s 172us/step - loss: 1.6381 - val_loss: 1.1131\n",
      "Epoch 33/40\n",
      "941561/941561 [==============================] - 160s 170us/step - loss: 1.6433 - val_loss: 1.1274\n"
     ]
    },
    {
     "name": "stdout",
     "output_type": "stream",
     "text": [
      "Epoch 34/40\n",
      "941561/941561 [==============================] - 166s 176us/step - loss: 1.6418 - val_loss: 1.1167\n",
      "Epoch 35/40\n",
      "941561/941561 [==============================] - 159s 169us/step - loss: 1.6435 - val_loss: 1.1203\n",
      "Epoch 36/40\n",
      "941561/941561 [==============================] - 159s 169us/step - loss: 1.6483 - val_loss: 1.1229\n",
      "Epoch 37/40\n",
      "941561/941561 [==============================] - 343s 364us/step - loss: 1.6462 - val_loss: 1.1284\n",
      "Epoch 38/40\n",
      "941561/941561 [==============================] - 656s 696us/step - loss: 1.6462 - val_loss: 1.1280\n",
      "Epoch 39/40\n",
      "941561/941561 [==============================] - 163s 173us/step - loss: 1.6503 - val_loss: 1.1247\n",
      "Epoch 40/40\n",
      "941561/941561 [==============================] - 161s 171us/step - loss: 1.6535 - val_loss: 1.1214\n",
      "((84, 84), (0.4, 0.4))\n",
      "Train on 941561 samples, validate on 235391 samples\n",
      "Epoch 1/40\n",
      "490688/941561 [==============>...............] - ETA: 1:28 - loss: 9.0166"
     ]
    },
    {
     "ename": "KeyboardInterrupt",
     "evalue": "",
     "output_type": "error",
     "traceback": [
      "\u001b[0;31m---------------------------------------------------------------------------\u001b[0m",
      "\u001b[0;31mKeyboardInterrupt\u001b[0m                         Traceback (most recent call last)",
      "\u001b[0;32m<ipython-input-363-dea62e043c48>\u001b[0m in \u001b[0;36m<module>\u001b[0;34m()\u001b[0m\n\u001b[1;32m     33\u001b[0m \u001b[0;34m\u001b[0m\u001b[0m\n\u001b[1;32m     34\u001b[0m     \u001b[0;31m# Fit the model\u001b[0m\u001b[0;34m\u001b[0m\u001b[0;34m\u001b[0m\u001b[0m\n\u001b[0;32m---> 35\u001b[0;31m     \u001b[0mhistory\u001b[0m \u001b[0;34m=\u001b[0m \u001b[0mmodel\u001b[0m\u001b[0;34m.\u001b[0m\u001b[0mfit\u001b[0m\u001b[0;34m(\u001b[0m\u001b[0mx_train\u001b[0m\u001b[0;34m,\u001b[0m \u001b[0my_train\u001b[0m\u001b[0;34m,\u001b[0m \u001b[0mvalidation_data\u001b[0m\u001b[0;34m=\u001b[0m\u001b[0;34m(\u001b[0m\u001b[0mx_test\u001b[0m\u001b[0;34m,\u001b[0m \u001b[0my_test\u001b[0m\u001b[0;34m)\u001b[0m\u001b[0;34m,\u001b[0m \u001b[0mepochs\u001b[0m\u001b[0;34m=\u001b[0m\u001b[0;36m40\u001b[0m\u001b[0;34m,\u001b[0m \u001b[0mverbose\u001b[0m\u001b[0;34m=\u001b[0m\u001b[0;36m1\u001b[0m\u001b[0;34m)\u001b[0m\u001b[0;34m\u001b[0m\u001b[0m\n\u001b[0m\u001b[1;32m     36\u001b[0m     \u001b[0msave\u001b[0m\u001b[0;34m(\u001b[0m\u001b[0mhistory\u001b[0m\u001b[0;34m.\u001b[0m\u001b[0mhistory\u001b[0m\u001b[0;34m,\u001b[0m \u001b[0;34m\"nn/history:{0}\"\u001b[0m\u001b[0;34m.\u001b[0m\u001b[0mformat\u001b[0m\u001b[0;34m(\u001b[0m\u001b[0mparams\u001b[0m\u001b[0;34m)\u001b[0m\u001b[0;34m)\u001b[0m\u001b[0;34m\u001b[0m\u001b[0m\n\u001b[1;32m     37\u001b[0m     \u001b[0msave_model\u001b[0m\u001b[0;34m(\u001b[0m\u001b[0mmodel\u001b[0m\u001b[0;34m,\u001b[0m \u001b[0;34m\"nn/{0}\"\u001b[0m\u001b[0;34m.\u001b[0m\u001b[0mformat\u001b[0m\u001b[0;34m(\u001b[0m\u001b[0mparams\u001b[0m\u001b[0;34m)\u001b[0m\u001b[0;34m)\u001b[0m\u001b[0;34m\u001b[0m\u001b[0m\n",
      "\u001b[0;32m/anaconda3/lib/python3.6/site-packages/keras/engine/training.py\u001b[0m in \u001b[0;36mfit\u001b[0;34m(self, x, y, batch_size, epochs, verbose, callbacks, validation_split, validation_data, shuffle, class_weight, sample_weight, initial_epoch, steps_per_epoch, validation_steps, **kwargs)\u001b[0m\n\u001b[1;32m   1037\u001b[0m                                         \u001b[0minitial_epoch\u001b[0m\u001b[0;34m=\u001b[0m\u001b[0minitial_epoch\u001b[0m\u001b[0;34m,\u001b[0m\u001b[0;34m\u001b[0m\u001b[0m\n\u001b[1;32m   1038\u001b[0m                                         \u001b[0msteps_per_epoch\u001b[0m\u001b[0;34m=\u001b[0m\u001b[0msteps_per_epoch\u001b[0m\u001b[0;34m,\u001b[0m\u001b[0;34m\u001b[0m\u001b[0m\n\u001b[0;32m-> 1039\u001b[0;31m                                         validation_steps=validation_steps)\n\u001b[0m\u001b[1;32m   1040\u001b[0m \u001b[0;34m\u001b[0m\u001b[0m\n\u001b[1;32m   1041\u001b[0m     def evaluate(self, x=None, y=None,\n",
      "\u001b[0;32m/anaconda3/lib/python3.6/site-packages/keras/engine/training_arrays.py\u001b[0m in \u001b[0;36mfit_loop\u001b[0;34m(model, f, ins, out_labels, batch_size, epochs, verbose, callbacks, val_f, val_ins, shuffle, callback_metrics, initial_epoch, steps_per_epoch, validation_steps)\u001b[0m\n\u001b[1;32m    202\u001b[0m                     \u001b[0mbatch_logs\u001b[0m\u001b[0;34m[\u001b[0m\u001b[0ml\u001b[0m\u001b[0;34m]\u001b[0m \u001b[0;34m=\u001b[0m \u001b[0mo\u001b[0m\u001b[0;34m\u001b[0m\u001b[0m\n\u001b[1;32m    203\u001b[0m \u001b[0;34m\u001b[0m\u001b[0m\n\u001b[0;32m--> 204\u001b[0;31m                 \u001b[0mcallbacks\u001b[0m\u001b[0;34m.\u001b[0m\u001b[0mon_batch_end\u001b[0m\u001b[0;34m(\u001b[0m\u001b[0mbatch_index\u001b[0m\u001b[0;34m,\u001b[0m \u001b[0mbatch_logs\u001b[0m\u001b[0;34m)\u001b[0m\u001b[0;34m\u001b[0m\u001b[0m\n\u001b[0m\u001b[1;32m    205\u001b[0m                 \u001b[0;32mif\u001b[0m \u001b[0mcallback_model\u001b[0m\u001b[0;34m.\u001b[0m\u001b[0mstop_training\u001b[0m\u001b[0;34m:\u001b[0m\u001b[0;34m\u001b[0m\u001b[0m\n\u001b[1;32m    206\u001b[0m                     \u001b[0;32mbreak\u001b[0m\u001b[0;34m\u001b[0m\u001b[0m\n",
      "\u001b[0;32m/anaconda3/lib/python3.6/site-packages/keras/callbacks.py\u001b[0m in \u001b[0;36mon_batch_end\u001b[0;34m(self, batch, logs)\u001b[0m\n\u001b[1;32m    115\u001b[0m             \u001b[0mcallback\u001b[0m\u001b[0;34m.\u001b[0m\u001b[0mon_batch_end\u001b[0m\u001b[0;34m(\u001b[0m\u001b[0mbatch\u001b[0m\u001b[0;34m,\u001b[0m \u001b[0mlogs\u001b[0m\u001b[0;34m)\u001b[0m\u001b[0;34m\u001b[0m\u001b[0m\n\u001b[1;32m    116\u001b[0m         \u001b[0mself\u001b[0m\u001b[0;34m.\u001b[0m\u001b[0m_delta_ts_batch_end\u001b[0m\u001b[0;34m.\u001b[0m\u001b[0mappend\u001b[0m\u001b[0;34m(\u001b[0m\u001b[0mtime\u001b[0m\u001b[0;34m.\u001b[0m\u001b[0mtime\u001b[0m\u001b[0;34m(\u001b[0m\u001b[0;34m)\u001b[0m \u001b[0;34m-\u001b[0m \u001b[0mt_before_callbacks\u001b[0m\u001b[0;34m)\u001b[0m\u001b[0;34m\u001b[0m\u001b[0m\n\u001b[0;32m--> 117\u001b[0;31m         \u001b[0mdelta_t_median\u001b[0m \u001b[0;34m=\u001b[0m \u001b[0mnp\u001b[0m\u001b[0;34m.\u001b[0m\u001b[0mmedian\u001b[0m\u001b[0;34m(\u001b[0m\u001b[0mself\u001b[0m\u001b[0;34m.\u001b[0m\u001b[0m_delta_ts_batch_end\u001b[0m\u001b[0;34m)\u001b[0m\u001b[0;34m\u001b[0m\u001b[0m\n\u001b[0m\u001b[1;32m    118\u001b[0m         if (self._delta_t_batch > 0. and\n\u001b[1;32m    119\u001b[0m            (delta_t_median > 0.95 * self._delta_t_batch and delta_t_median > 0.1)):\n",
      "\u001b[0;32m/anaconda3/lib/python3.6/site-packages/numpy/lib/function_base.py\u001b[0m in \u001b[0;36mmedian\u001b[0;34m(a, axis, out, overwrite_input, keepdims)\u001b[0m\n\u001b[1;32m   4117\u001b[0m     \"\"\"\n\u001b[1;32m   4118\u001b[0m     r, k = _ureduce(a, func=_median, axis=axis, out=out,\n\u001b[0;32m-> 4119\u001b[0;31m                     overwrite_input=overwrite_input)\n\u001b[0m\u001b[1;32m   4120\u001b[0m     \u001b[0;32mif\u001b[0m \u001b[0mkeepdims\u001b[0m\u001b[0;34m:\u001b[0m\u001b[0;34m\u001b[0m\u001b[0m\n\u001b[1;32m   4121\u001b[0m         \u001b[0;32mreturn\u001b[0m \u001b[0mr\u001b[0m\u001b[0;34m.\u001b[0m\u001b[0mreshape\u001b[0m\u001b[0;34m(\u001b[0m\u001b[0mk\u001b[0m\u001b[0;34m)\u001b[0m\u001b[0;34m\u001b[0m\u001b[0m\n",
      "\u001b[0;32m/anaconda3/lib/python3.6/site-packages/numpy/lib/function_base.py\u001b[0m in \u001b[0;36m_ureduce\u001b[0;34m(a, func, **kwargs)\u001b[0m\n\u001b[1;32m   4031\u001b[0m         \u001b[0mkeepdim\u001b[0m \u001b[0;34m=\u001b[0m \u001b[0;34m(\u001b[0m\u001b[0;36m1\u001b[0m\u001b[0;34m,\u001b[0m\u001b[0;34m)\u001b[0m \u001b[0;34m*\u001b[0m \u001b[0ma\u001b[0m\u001b[0;34m.\u001b[0m\u001b[0mndim\u001b[0m\u001b[0;34m\u001b[0m\u001b[0m\n\u001b[1;32m   4032\u001b[0m \u001b[0;34m\u001b[0m\u001b[0m\n\u001b[0;32m-> 4033\u001b[0;31m     \u001b[0mr\u001b[0m \u001b[0;34m=\u001b[0m \u001b[0mfunc\u001b[0m\u001b[0;34m(\u001b[0m\u001b[0ma\u001b[0m\u001b[0;34m,\u001b[0m \u001b[0;34m**\u001b[0m\u001b[0mkwargs\u001b[0m\u001b[0;34m)\u001b[0m\u001b[0;34m\u001b[0m\u001b[0m\n\u001b[0m\u001b[1;32m   4034\u001b[0m     \u001b[0;32mreturn\u001b[0m \u001b[0mr\u001b[0m\u001b[0;34m,\u001b[0m \u001b[0mkeepdim\u001b[0m\u001b[0;34m\u001b[0m\u001b[0m\n\u001b[1;32m   4035\u001b[0m \u001b[0;34m\u001b[0m\u001b[0m\n",
      "\u001b[0;32m/anaconda3/lib/python3.6/site-packages/numpy/lib/function_base.py\u001b[0m in \u001b[0;36m_median\u001b[0;34m(a, axis, out, overwrite_input)\u001b[0m\n\u001b[1;32m   4139\u001b[0m         \u001b[0mkth\u001b[0m \u001b[0;34m=\u001b[0m \u001b[0;34m[\u001b[0m\u001b[0;34m(\u001b[0m\u001b[0msz\u001b[0m \u001b[0;34m-\u001b[0m \u001b[0;36m1\u001b[0m\u001b[0;34m)\u001b[0m \u001b[0;34m//\u001b[0m \u001b[0;36m2\u001b[0m\u001b[0;34m]\u001b[0m\u001b[0;34m\u001b[0m\u001b[0m\n\u001b[1;32m   4140\u001b[0m     \u001b[0;31m# Check if the array contains any nan's\u001b[0m\u001b[0;34m\u001b[0m\u001b[0;34m\u001b[0m\u001b[0m\n\u001b[0;32m-> 4141\u001b[0;31m     \u001b[0;32mif\u001b[0m \u001b[0mnp\u001b[0m\u001b[0;34m.\u001b[0m\u001b[0missubdtype\u001b[0m\u001b[0;34m(\u001b[0m\u001b[0ma\u001b[0m\u001b[0;34m.\u001b[0m\u001b[0mdtype\u001b[0m\u001b[0;34m,\u001b[0m \u001b[0mnp\u001b[0m\u001b[0;34m.\u001b[0m\u001b[0minexact\u001b[0m\u001b[0;34m)\u001b[0m\u001b[0;34m:\u001b[0m\u001b[0;34m\u001b[0m\u001b[0m\n\u001b[0m\u001b[1;32m   4142\u001b[0m         \u001b[0mkth\u001b[0m\u001b[0;34m.\u001b[0m\u001b[0mappend\u001b[0m\u001b[0;34m(\u001b[0m\u001b[0;34m-\u001b[0m\u001b[0;36m1\u001b[0m\u001b[0;34m)\u001b[0m\u001b[0;34m\u001b[0m\u001b[0m\n\u001b[1;32m   4143\u001b[0m \u001b[0;34m\u001b[0m\u001b[0m\n",
      "\u001b[0;31mKeyboardInterrupt\u001b[0m: "
     ]
    }
   ],
   "source": [
    "# X = dataset.user_id, dataset.item_id\n",
    "Y = dataset.rating\n",
    "\n",
    "results = {}\n",
    "\n",
    "train, test = train_test_split(dataset, test_size=0.2)\n",
    "x_train = [train.user_id, train.item_id]\n",
    "y_train = train.rating\n",
    "\n",
    "x_test = [test.user_id, test.item_id]\n",
    "y_test = test.rating\n",
    "\n",
    "# for l2_param in np.linspace(0.005, 0.02, 3):\n",
    "for dropout in np.linspace(0.3, 0.5, 3):\n",
    "\n",
    "    # Create model\n",
    "    model = dot_product_network(dropout=dropout)\n",
    "\n",
    "    # Fit the model\n",
    "    history = model.fit(x_train, y_train, validation_data=(x_test, y_test), epochs=40, verbose=1)\n",
    "    save(history.history, \"nn/history:{0}\".format(params))\n",
    "    save_model(model, \"nn/{0}\".format(params))"
   ]
  },
  {
   "cell_type": "markdown",
   "metadata": {},
   "source": [
    "#### Training"
   ]
  },
  {
   "cell_type": "code",
   "execution_count": 414,
   "metadata": {},
   "outputs": [
    {
     "name": "stdout",
     "output_type": "stream",
     "text": [
      "__________________________________________________________________________________________________\n",
      "Layer (type)                    Output Shape         Param #     Connected to                     \n",
      "==================================================================================================\n",
      "Item (InputLayer)               (None, 1)            0                                            \n",
      "__________________________________________________________________________________________________\n",
      "User (InputLayer)               (None, 1)            0                                            \n",
      "__________________________________________________________________________________________________\n",
      "Movie-Embedding (Embedding)     (None, 1, 78)        780078      Item[0][0]                       \n",
      "__________________________________________________________________________________________________\n",
      "User-Embedding (Embedding)      (None, 1, 78)        78078       User[0][0]                       \n",
      "__________________________________________________________________________________________________\n",
      "FlattenMovies (Flatten)         (None, 78)           0           Movie-Embedding[0][0]            \n",
      "__________________________________________________________________________________________________\n",
      "FlattenUsers (Flatten)          (None, 78)           0           User-Embedding[0][0]             \n",
      "__________________________________________________________________________________________________\n",
      "dropout_255 (Dropout)           (None, 78)           0           FlattenMovies[0][0]              \n",
      "__________________________________________________________________________________________________\n",
      "dropout_256 (Dropout)           (None, 78)           0           FlattenUsers[0][0]               \n",
      "__________________________________________________________________________________________________\n",
      "concatenate_5 (Concatenate)     (None, 156)          0           dropout_255[0][0]                \n",
      "                                                                 dropout_256[0][0]                \n",
      "__________________________________________________________________________________________________\n",
      "FullyConnected (Dense)          (None, 200)          31400       concatenate_5[0][0]              \n",
      "__________________________________________________________________________________________________\n",
      "Dropout (Dropout)               (None, 200)          0           FullyConnected[0][0]             \n",
      "__________________________________________________________________________________________________\n",
      "FullyConnected-3 (Dense)        (None, 20)           4020        Dropout[0][0]                    \n",
      "__________________________________________________________________________________________________\n",
      "Activation (Dense)              (None, 1)            21          FullyConnected-3[0][0]           \n",
      "==================================================================================================\n",
      "Total params: 893,597\n",
      "Trainable params: 893,597\n",
      "Non-trainable params: 0\n",
      "__________________________________________________________________________________________________\n"
     ]
    }
   ],
   "source": [
    "model = concat_network()\n",
    "model.summary()"
   ]
  },
  {
   "cell_type": "code",
   "execution_count": 416,
   "metadata": {
    "scrolled": true
   },
   "outputs": [
    {
     "name": "stdout",
     "output_type": "stream",
     "text": [
      "Epoch 1/10\n",
      "1176952/1176952 [==============================] - 218s 185us/step - loss: 0.8196\n",
      "Epoch 2/10\n",
      "1176952/1176952 [==============================] - 244s 207us/step - loss: 0.8150\n",
      "Epoch 3/10\n",
      "1176952/1176952 [==============================] - 256s 217us/step - loss: 0.8173\n",
      "Epoch 4/10\n",
      "1176952/1176952 [==============================] - 246s 209us/step - loss: 0.8156\n",
      "Epoch 5/10\n",
      "1176952/1176952 [==============================] - 242s 206us/step - loss: 0.8175\n",
      "Epoch 6/10\n",
      "1176952/1176952 [==============================] - 237s 202us/step - loss: 0.8174\n",
      "Epoch 7/10\n",
      "1176952/1176952 [==============================] - 243s 206us/step - loss: 0.8156\n",
      "Epoch 8/10\n",
      "1176952/1176952 [==============================] - 253s 215us/step - loss: 0.8180\n",
      "Epoch 9/10\n",
      "1176952/1176952 [==============================] - 259s 220us/step - loss: 0.8155\n",
      "Epoch 10/10\n",
      "1176952/1176952 [==============================] - 256s 218us/step - loss: 0.8184\n"
     ]
    }
   ],
   "source": [
    "history = model.fit([dataset.user_id, dataset.item_id], dataset.rating, epochs=30, verbose=1)"
   ]
  },
  {
   "cell_type": "code",
   "execution_count": 418,
   "metadata": {},
   "outputs": [
    {
     "name": "stdout",
     "output_type": "stream",
     "text": [
      "Or: 0.7613717466812581\n"
     ]
    }
   ],
   "source": [
    "submission_df = submission_nn(model)\n",
    "test_model(dataset, model)\n",
    "\n",
    "# best: 0.7613717466812581"
   ]
  },
  {
   "cell_type": "code",
   "execution_count": null,
   "metadata": {},
   "outputs": [],
   "source": []
  }
 ],
 "metadata": {
  "kernelspec": {
   "display_name": "Python 3",
   "language": "python",
   "name": "python3"
  },
  "language_info": {
   "codemirror_mode": {
    "name": "ipython",
    "version": 3
   },
   "file_extension": ".py",
   "mimetype": "text/x-python",
   "name": "python",
   "nbconvert_exporter": "python",
   "pygments_lexer": "ipython3",
   "version": "3.6.4"
  }
 },
 "nbformat": 4,
 "nbformat_minor": 2
}
