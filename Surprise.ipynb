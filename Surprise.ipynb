{
 "cells": [
  {
   "cell_type": "markdown",
   "metadata": {},
   "source": [
    "## Imports ##"
   ]
  },
  {
   "cell_type": "code",
   "execution_count": 4,
   "metadata": {},
   "outputs": [],
   "source": [
    "import os\n",
    "import csv\n",
    "import pandas as pd\n",
    "import numpy as np\n",
    "import math\n",
    "import datetime\n",
    "from numpy import linalg\n",
    "\n",
    "\n",
    "#from __future__ import (absolute_import, division, print_function,\n",
    "#                        unicode_literals)\n",
    "\n",
    "from surprise import KNNWithMeans\n",
    "from surprise import Dataset\n",
    "from surprise import accuracy\n",
    "from surprise.model_selection import train_test_split\n",
    "from surprise import Reader\n",
    "from surprise import SVD\n",
    "from surprise import SVDpp\n",
    "#surprise.prediction_algorithms.matrix_factorization.SVD"
   ]
  },
  {
   "cell_type": "markdown",
   "metadata": {},
   "source": [
    "## Importing and formating ##"
   ]
  },
  {
   "cell_type": "code",
   "execution_count": 5,
   "metadata": {},
   "outputs": [
    {
     "ename": "FileNotFoundError",
     "evalue": "File b'/home/arnaud/Documents/EPFL/MA1/ML/ML-Project-2/data/sample_submission .csv' does not exist",
     "output_type": "error",
     "traceback": [
      "\u001b[0;31m---------------------------------------------------------------------------\u001b[0m",
      "\u001b[0;31mFileNotFoundError\u001b[0m                         Traceback (most recent call last)",
      "\u001b[0;32m<ipython-input-5-772c3d5471c7>\u001b[0m in \u001b[0;36m<module>\u001b[0;34m\u001b[0m\n\u001b[1;32m      7\u001b[0m \u001b[0mdf\u001b[0m \u001b[0;34m=\u001b[0m \u001b[0mdf\u001b[0m\u001b[0;34m.\u001b[0m\u001b[0mreset_index\u001b[0m\u001b[0;34m(\u001b[0m\u001b[0;34m)\u001b[0m\u001b[0;34m.\u001b[0m\u001b[0mdrop\u001b[0m\u001b[0;34m(\u001b[0m\u001b[0mcolumns\u001b[0m\u001b[0;34m=\u001b[0m\u001b[0;34m[\u001b[0m\u001b[0;34m\"Id\"\u001b[0m\u001b[0;34m]\u001b[0m\u001b[0;34m)\u001b[0m\u001b[0;34m\u001b[0m\u001b[0m\n\u001b[1;32m      8\u001b[0m \u001b[0;34m\u001b[0m\u001b[0m\n\u001b[0;32m----> 9\u001b[0;31m \u001b[0mpredictions\u001b[0m \u001b[0;34m=\u001b[0m \u001b[0mpd\u001b[0m\u001b[0;34m.\u001b[0m\u001b[0mread_csv\u001b[0m\u001b[0;34m(\u001b[0m\u001b[0mrelative_path\u001b[0m \u001b[0;34m+\u001b[0m \u001b[0;34m'/sample_submission .csv'\u001b[0m\u001b[0;34m)\u001b[0m\u001b[0;34m.\u001b[0m\u001b[0mset_index\u001b[0m\u001b[0;34m(\u001b[0m\u001b[0;34m\"Id\"\u001b[0m\u001b[0;34m)\u001b[0m\u001b[0;34m\u001b[0m\u001b[0m\n\u001b[0m\u001b[1;32m     10\u001b[0m \u001b[0mtoPredict\u001b[0m \u001b[0;34m=\u001b[0m \u001b[0mpredictions\u001b[0m\u001b[0;34m.\u001b[0m\u001b[0mcopy\u001b[0m\u001b[0;34m(\u001b[0m\u001b[0;34m)\u001b[0m\u001b[0;34m\u001b[0m\u001b[0m\n\u001b[1;32m     11\u001b[0m \u001b[0mmovies\u001b[0m\u001b[0;34m,\u001b[0m \u001b[0mpeople\u001b[0m \u001b[0;34m=\u001b[0m \u001b[0mzip\u001b[0m\u001b[0;34m(\u001b[0m\u001b[0;34m*\u001b[0m\u001b[0;34m[\u001b[0m\u001b[0mtuple\u001b[0m\u001b[0;34m(\u001b[0m\u001b[0mint\u001b[0m\u001b[0;34m(\u001b[0m\u001b[0mx\u001b[0m\u001b[0;34m[\u001b[0m\u001b[0;36m1\u001b[0m\u001b[0;34m:\u001b[0m\u001b[0;34m]\u001b[0m\u001b[0;34m)\u001b[0m \u001b[0;32mfor\u001b[0m \u001b[0mx\u001b[0m \u001b[0;32min\u001b[0m \u001b[0mx\u001b[0m\u001b[0;34m.\u001b[0m\u001b[0msplit\u001b[0m\u001b[0;34m(\u001b[0m\u001b[0;34m\"_\"\u001b[0m\u001b[0;34m)\u001b[0m\u001b[0;34m)\u001b[0m \u001b[0;32mfor\u001b[0m \u001b[0mx\u001b[0m \u001b[0;32min\u001b[0m \u001b[0mtoPredict\u001b[0m\u001b[0;34m.\u001b[0m\u001b[0mindex\u001b[0m\u001b[0;34m.\u001b[0m\u001b[0mvalues\u001b[0m\u001b[0;34m]\u001b[0m\u001b[0;34m)\u001b[0m\u001b[0;34m\u001b[0m\u001b[0m\n",
      "\u001b[0;32m~/anaconda3/lib/python3.6/site-packages/pandas/io/parsers.py\u001b[0m in \u001b[0;36mparser_f\u001b[0;34m(filepath_or_buffer, sep, delimiter, header, names, index_col, usecols, squeeze, prefix, mangle_dupe_cols, dtype, engine, converters, true_values, false_values, skipinitialspace, skiprows, nrows, na_values, keep_default_na, na_filter, verbose, skip_blank_lines, parse_dates, infer_datetime_format, keep_date_col, date_parser, dayfirst, iterator, chunksize, compression, thousands, decimal, lineterminator, quotechar, quoting, escapechar, comment, encoding, dialect, tupleize_cols, error_bad_lines, warn_bad_lines, skipfooter, doublequote, delim_whitespace, low_memory, memory_map, float_precision)\u001b[0m\n\u001b[1;32m    676\u001b[0m                     skip_blank_lines=skip_blank_lines)\n\u001b[1;32m    677\u001b[0m \u001b[0;34m\u001b[0m\u001b[0m\n\u001b[0;32m--> 678\u001b[0;31m         \u001b[0;32mreturn\u001b[0m \u001b[0m_read\u001b[0m\u001b[0;34m(\u001b[0m\u001b[0mfilepath_or_buffer\u001b[0m\u001b[0;34m,\u001b[0m \u001b[0mkwds\u001b[0m\u001b[0;34m)\u001b[0m\u001b[0;34m\u001b[0m\u001b[0m\n\u001b[0m\u001b[1;32m    679\u001b[0m \u001b[0;34m\u001b[0m\u001b[0m\n\u001b[1;32m    680\u001b[0m     \u001b[0mparser_f\u001b[0m\u001b[0;34m.\u001b[0m\u001b[0m__name__\u001b[0m \u001b[0;34m=\u001b[0m \u001b[0mname\u001b[0m\u001b[0;34m\u001b[0m\u001b[0m\n",
      "\u001b[0;32m~/anaconda3/lib/python3.6/site-packages/pandas/io/parsers.py\u001b[0m in \u001b[0;36m_read\u001b[0;34m(filepath_or_buffer, kwds)\u001b[0m\n\u001b[1;32m    438\u001b[0m \u001b[0;34m\u001b[0m\u001b[0m\n\u001b[1;32m    439\u001b[0m     \u001b[0;31m# Create the parser.\u001b[0m\u001b[0;34m\u001b[0m\u001b[0;34m\u001b[0m\u001b[0m\n\u001b[0;32m--> 440\u001b[0;31m     \u001b[0mparser\u001b[0m \u001b[0;34m=\u001b[0m \u001b[0mTextFileReader\u001b[0m\u001b[0;34m(\u001b[0m\u001b[0mfilepath_or_buffer\u001b[0m\u001b[0;34m,\u001b[0m \u001b[0;34m**\u001b[0m\u001b[0mkwds\u001b[0m\u001b[0;34m)\u001b[0m\u001b[0;34m\u001b[0m\u001b[0m\n\u001b[0m\u001b[1;32m    441\u001b[0m \u001b[0;34m\u001b[0m\u001b[0m\n\u001b[1;32m    442\u001b[0m     \u001b[0;32mif\u001b[0m \u001b[0mchunksize\u001b[0m \u001b[0;32mor\u001b[0m \u001b[0miterator\u001b[0m\u001b[0;34m:\u001b[0m\u001b[0;34m\u001b[0m\u001b[0m\n",
      "\u001b[0;32m~/anaconda3/lib/python3.6/site-packages/pandas/io/parsers.py\u001b[0m in \u001b[0;36m__init__\u001b[0;34m(self, f, engine, **kwds)\u001b[0m\n\u001b[1;32m    785\u001b[0m             \u001b[0mself\u001b[0m\u001b[0;34m.\u001b[0m\u001b[0moptions\u001b[0m\u001b[0;34m[\u001b[0m\u001b[0;34m'has_index_names'\u001b[0m\u001b[0;34m]\u001b[0m \u001b[0;34m=\u001b[0m \u001b[0mkwds\u001b[0m\u001b[0;34m[\u001b[0m\u001b[0;34m'has_index_names'\u001b[0m\u001b[0;34m]\u001b[0m\u001b[0;34m\u001b[0m\u001b[0m\n\u001b[1;32m    786\u001b[0m \u001b[0;34m\u001b[0m\u001b[0m\n\u001b[0;32m--> 787\u001b[0;31m         \u001b[0mself\u001b[0m\u001b[0;34m.\u001b[0m\u001b[0m_make_engine\u001b[0m\u001b[0;34m(\u001b[0m\u001b[0mself\u001b[0m\u001b[0;34m.\u001b[0m\u001b[0mengine\u001b[0m\u001b[0;34m)\u001b[0m\u001b[0;34m\u001b[0m\u001b[0m\n\u001b[0m\u001b[1;32m    788\u001b[0m \u001b[0;34m\u001b[0m\u001b[0m\n\u001b[1;32m    789\u001b[0m     \u001b[0;32mdef\u001b[0m \u001b[0mclose\u001b[0m\u001b[0;34m(\u001b[0m\u001b[0mself\u001b[0m\u001b[0;34m)\u001b[0m\u001b[0;34m:\u001b[0m\u001b[0;34m\u001b[0m\u001b[0m\n",
      "\u001b[0;32m~/anaconda3/lib/python3.6/site-packages/pandas/io/parsers.py\u001b[0m in \u001b[0;36m_make_engine\u001b[0;34m(self, engine)\u001b[0m\n\u001b[1;32m   1012\u001b[0m     \u001b[0;32mdef\u001b[0m \u001b[0m_make_engine\u001b[0m\u001b[0;34m(\u001b[0m\u001b[0mself\u001b[0m\u001b[0;34m,\u001b[0m \u001b[0mengine\u001b[0m\u001b[0;34m=\u001b[0m\u001b[0;34m'c'\u001b[0m\u001b[0;34m)\u001b[0m\u001b[0;34m:\u001b[0m\u001b[0;34m\u001b[0m\u001b[0m\n\u001b[1;32m   1013\u001b[0m         \u001b[0;32mif\u001b[0m \u001b[0mengine\u001b[0m \u001b[0;34m==\u001b[0m \u001b[0;34m'c'\u001b[0m\u001b[0;34m:\u001b[0m\u001b[0;34m\u001b[0m\u001b[0m\n\u001b[0;32m-> 1014\u001b[0;31m             \u001b[0mself\u001b[0m\u001b[0;34m.\u001b[0m\u001b[0m_engine\u001b[0m \u001b[0;34m=\u001b[0m \u001b[0mCParserWrapper\u001b[0m\u001b[0;34m(\u001b[0m\u001b[0mself\u001b[0m\u001b[0;34m.\u001b[0m\u001b[0mf\u001b[0m\u001b[0;34m,\u001b[0m \u001b[0;34m**\u001b[0m\u001b[0mself\u001b[0m\u001b[0;34m.\u001b[0m\u001b[0moptions\u001b[0m\u001b[0;34m)\u001b[0m\u001b[0;34m\u001b[0m\u001b[0m\n\u001b[0m\u001b[1;32m   1015\u001b[0m         \u001b[0;32melse\u001b[0m\u001b[0;34m:\u001b[0m\u001b[0;34m\u001b[0m\u001b[0m\n\u001b[1;32m   1016\u001b[0m             \u001b[0;32mif\u001b[0m \u001b[0mengine\u001b[0m \u001b[0;34m==\u001b[0m \u001b[0;34m'python'\u001b[0m\u001b[0;34m:\u001b[0m\u001b[0;34m\u001b[0m\u001b[0m\n",
      "\u001b[0;32m~/anaconda3/lib/python3.6/site-packages/pandas/io/parsers.py\u001b[0m in \u001b[0;36m__init__\u001b[0;34m(self, src, **kwds)\u001b[0m\n\u001b[1;32m   1706\u001b[0m         \u001b[0mkwds\u001b[0m\u001b[0;34m[\u001b[0m\u001b[0;34m'usecols'\u001b[0m\u001b[0;34m]\u001b[0m \u001b[0;34m=\u001b[0m \u001b[0mself\u001b[0m\u001b[0;34m.\u001b[0m\u001b[0musecols\u001b[0m\u001b[0;34m\u001b[0m\u001b[0m\n\u001b[1;32m   1707\u001b[0m \u001b[0;34m\u001b[0m\u001b[0m\n\u001b[0;32m-> 1708\u001b[0;31m         \u001b[0mself\u001b[0m\u001b[0;34m.\u001b[0m\u001b[0m_reader\u001b[0m \u001b[0;34m=\u001b[0m \u001b[0mparsers\u001b[0m\u001b[0;34m.\u001b[0m\u001b[0mTextReader\u001b[0m\u001b[0;34m(\u001b[0m\u001b[0msrc\u001b[0m\u001b[0;34m,\u001b[0m \u001b[0;34m**\u001b[0m\u001b[0mkwds\u001b[0m\u001b[0;34m)\u001b[0m\u001b[0;34m\u001b[0m\u001b[0m\n\u001b[0m\u001b[1;32m   1709\u001b[0m \u001b[0;34m\u001b[0m\u001b[0m\n\u001b[1;32m   1710\u001b[0m         \u001b[0mpassed_names\u001b[0m \u001b[0;34m=\u001b[0m \u001b[0mself\u001b[0m\u001b[0;34m.\u001b[0m\u001b[0mnames\u001b[0m \u001b[0;32mis\u001b[0m \u001b[0;32mNone\u001b[0m\u001b[0;34m\u001b[0m\u001b[0m\n",
      "\u001b[0;32mpandas/_libs/parsers.pyx\u001b[0m in \u001b[0;36mpandas._libs.parsers.TextReader.__cinit__\u001b[0;34m()\u001b[0m\n",
      "\u001b[0;32mpandas/_libs/parsers.pyx\u001b[0m in \u001b[0;36mpandas._libs.parsers.TextReader._setup_parser_source\u001b[0;34m()\u001b[0m\n",
      "\u001b[0;31mFileNotFoundError\u001b[0m: File b'/home/arnaud/Documents/EPFL/MA1/ML/ML-Project-2/data/sample_submission .csv' does not exist"
     ]
    }
   ],
   "source": [
    "relative_path = os.getcwd() + \"/data\"\n",
    "\n",
    "df = pd.read_csv(relative_path + '/data_train.csv').set_index(\"Id\")\n",
    "movies, people = zip(*[tuple(int(x[1:]) for x in x.split(\"_\")) for x in df.index.values])\n",
    "df[\"movies\"] = movies\n",
    "df[\"people\"] = people\n",
    "df = df.reset_index().drop(columns=[\"Id\"])\n",
    "\n",
    "predictions = pd.read_csv(relative_path + '/sample_submission .csv').set_index(\"Id\")\n",
    "toPredict = predictions.copy()\n",
    "movies, people = zip(*[tuple(int(x[1:]) for x in x.split(\"_\")) for x in toPredict.index.values])\n",
    "toPredict[\"movies\"] = movies\n",
    "toPredict[\"people\"] = people\n",
    "toPredict = toPredict.reset_index().drop(columns=[\"Id\"])\n",
    "\n"
   ]
  },
  {
   "cell_type": "markdown",
   "metadata": {},
   "source": [
    "## Training ##"
   ]
  },
  {
   "cell_type": "code",
   "execution_count": 39,
   "metadata": {
    "scrolled": true
   },
   "outputs": [
    {
     "ename": "AttributeError",
     "evalue": "'DatasetAutoFolds' object has no attribute 'build_full_train_set'",
     "output_type": "error",
     "traceback": [
      "\u001b[0;31m---------------------------------------------------------------------------\u001b[0m",
      "\u001b[0;31mAttributeError\u001b[0m                            Traceback (most recent call last)",
      "\u001b[0;32m<ipython-input-39-bd096259a171>\u001b[0m in \u001b[0;36m<module>\u001b[0;34m()\u001b[0m\n\u001b[1;32m      4\u001b[0m \u001b[0;31m#Ameliorable\u001b[0m\u001b[0;34m\u001b[0m\u001b[0;34m\u001b[0m\u001b[0m\n\u001b[1;32m      5\u001b[0m \u001b[0;31m#trainset, testset = train_test_split(data, test_size=.000001)\u001b[0m\u001b[0;34m\u001b[0m\u001b[0;34m\u001b[0m\u001b[0m\n\u001b[0;32m----> 6\u001b[0;31m \u001b[0mtrainset\u001b[0m \u001b[0;34m=\u001b[0m \u001b[0mdata\u001b[0m\u001b[0;34m.\u001b[0m\u001b[0mbuild_full_train_set\u001b[0m\u001b[0;34m(\u001b[0m\u001b[0;34m)\u001b[0m\u001b[0;34m\u001b[0m\u001b[0m\n\u001b[0m\u001b[1;32m      7\u001b[0m \u001b[0;34m\u001b[0m\u001b[0m\n\u001b[1;32m      8\u001b[0m \u001b[0malgo\u001b[0m \u001b[0;34m=\u001b[0m \u001b[0mKNNWithMeans\u001b[0m\u001b[0;34m(\u001b[0m\u001b[0mk\u001b[0m\u001b[0;34m=\u001b[0m\u001b[0;36m50\u001b[0m\u001b[0;34m,\u001b[0m \u001b[0msim_options\u001b[0m\u001b[0;34m=\u001b[0m\u001b[0;34m{\u001b[0m\u001b[0;34m'name'\u001b[0m\u001b[0;34m:\u001b[0m \u001b[0;34m'pearson_baseline'\u001b[0m\u001b[0;34m,\u001b[0m \u001b[0;34m'user_based'\u001b[0m\u001b[0;34m:\u001b[0m \u001b[0;32mTrue\u001b[0m\u001b[0;34m}\u001b[0m\u001b[0;34m)\u001b[0m\u001b[0;34m\u001b[0m\u001b[0m\n",
      "\u001b[0;31mAttributeError\u001b[0m: 'DatasetAutoFolds' object has no attribute 'build_full_train_set'"
     ]
    }
   ],
   "source": [
    "reader = Reader(rating_scale=(1, 5))\n",
    "data = Dataset.load_from_df(df[['people', 'movies', 'Prediction']], reader)\n",
    "\n",
    "#Ameliorable\n",
    "trainset, testset = train_test_split(data, test_size=.000001)\n",
    "\n",
    "algo = KNNWithMeans(k=50, sim_options={'name': 'pearson_baseline', 'user_based': True})\n",
    "#algo = SVD()\n",
    "algo.fit(trainset)\n",
    "\n",
    "submission = toPredict[['people', 'movies', 'Prediction']]\n",
    "submission = submission.values.tolist()\n",
    "submission_pred = algo.test(submission)"
   ]
  },
  {
   "cell_type": "code",
   "execution_count": 58,
   "metadata": {},
   "outputs": [
    {
     "ename": "TypeError",
     "evalue": "'module' object is not callable",
     "output_type": "error",
     "traceback": [
      "\u001b[0;31m---------------------------------------------------------------------------\u001b[0m",
      "\u001b[0;31mTypeError\u001b[0m                                 Traceback (most recent call last)",
      "\u001b[0;32m<ipython-input-58-7788b67c3d62>\u001b[0m in \u001b[0;36m<module>\u001b[0;34m()\u001b[0m\n\u001b[0;32m----> 1\u001b[0;31m \u001b[0mnp\u001b[0m\u001b[0;34m.\u001b[0m\u001b[0mlinalg\u001b[0m\u001b[0;34m(\u001b[0m\u001b[0;36m75\u001b[0m\u001b[0;34m,\u001b[0m \u001b[0;36m150\u001b[0m\u001b[0;34m,\u001b[0m \u001b[0mnum\u001b[0m \u001b[0;34m=\u001b[0m \u001b[0;36m6\u001b[0m\u001b[0;34m)\u001b[0m\u001b[0;34m\u001b[0m\u001b[0m\n\u001b[0m",
      "\u001b[0;31mTypeError\u001b[0m: 'module' object is not callable"
     ]
    }
   ],
   "source": [
    "np.linalg()"
   ]
  },
  {
   "cell_type": "code",
   "execution_count": 10,
   "metadata": {},
   "outputs": [
    {
     "name": "stdout",
     "output_type": "stream",
     "text": [
      "50.0\n",
      "2018-12-04 14:52:30.467600\n",
      "RMSE: 1.1211\n",
      "RMSE: 1.1211\n",
      "RMSE: 1.1211\n",
      "RMSE: 1.1211\n",
      "RMSE: 1.1210\n",
      "RMSE: 1.1212\n",
      "RMSE: 1.1212\n",
      "RMSE: 1.1212\n",
      "RMSE: 1.1213\n",
      "RMSE: 1.1211\n",
      "RMSE: 1.1212\n",
      "RMSE: 1.1214\n",
      "RMSE: 1.1212\n",
      "RMSE: 1.1211\n",
      "RMSE: 1.1213\n",
      "RMSE: 1.1215\n",
      "RMSE: 1.1214\n",
      "RMSE: 1.1213\n",
      "RMSE: 1.1209\n",
      "RMSE: 1.1209\n",
      "RMSE: 1.1212\n",
      "RMSE: 1.1209\n",
      "RMSE: 1.1214\n",
      "RMSE: 1.1212\n",
      "RMSE: 1.1212\n",
      "75.0\n",
      "2018-12-04 15:02:52.368602\n",
      "RMSE: 1.1223\n",
      "RMSE: 1.1222\n",
      "RMSE: 1.1221\n",
      "RMSE: 1.1225\n",
      "RMSE: 1.1224\n",
      "RMSE: 1.1225\n",
      "RMSE: 1.1220\n",
      "RMSE: 1.1222\n",
      "RMSE: 1.1224\n",
      "RMSE: 1.1227\n",
      "RMSE: 1.1223\n",
      "RMSE: 1.1225\n",
      "RMSE: 1.1222\n",
      "RMSE: 1.1222\n",
      "RMSE: 1.1226\n",
      "RMSE: 1.1223\n",
      "RMSE: 1.1220\n",
      "RMSE: 1.1222\n",
      "RMSE: 1.1224\n",
      "RMSE: 1.1221\n",
      "RMSE: 1.1222\n",
      "RMSE: 1.1223\n",
      "RMSE: 1.1222\n",
      "RMSE: 1.1223\n",
      "RMSE: 1.1222\n",
      "100.0\n",
      "2018-12-04 16:20:49.786869\n",
      "RMSE: 1.1237\n",
      "RMSE: 1.1236\n",
      "RMSE: 1.1231\n",
      "RMSE: 1.1238\n",
      "RMSE: 1.1233\n",
      "RMSE: 1.1233\n",
      "RMSE: 1.1240\n",
      "RMSE: 1.1235\n",
      "RMSE: 1.1227\n",
      "RMSE: 1.1235\n",
      "RMSE: 1.1236\n",
      "RMSE: 1.1233\n",
      "RMSE: 1.1237\n",
      "RMSE: 1.1237\n",
      "RMSE: 1.1232\n",
      "RMSE: 1.1235\n",
      "RMSE: 1.1232\n",
      "RMSE: 1.1231\n",
      "RMSE: 1.1233\n",
      "RMSE: 1.1233\n",
      "RMSE: 1.1237\n",
      "RMSE: 1.1233\n",
      "RMSE: 1.1236\n",
      "RMSE: 1.1231\n",
      "RMSE: 1.1235\n",
      "125.0\n",
      "2018-12-04 16:37:36.590404\n",
      "RMSE: 1.1249\n",
      "RMSE: 1.1248\n",
      "RMSE: 1.1244\n",
      "RMSE: 1.1244\n",
      "RMSE: 1.1246\n",
      "RMSE: 1.1247\n",
      "RMSE: 1.1249\n",
      "RMSE: 1.1246\n",
      "RMSE: 1.1245\n",
      "RMSE: 1.1245\n",
      "RMSE: 1.1248\n",
      "RMSE: 1.1246\n",
      "RMSE: 1.1244\n",
      "RMSE: 1.1248\n",
      "RMSE: 1.1243\n",
      "RMSE: 1.1241\n",
      "RMSE: 1.1243\n",
      "RMSE: 1.1244\n",
      "RMSE: 1.1251\n",
      "RMSE: 1.1249\n",
      "RMSE: 1.1243\n",
      "RMSE: 1.1247\n",
      "RMSE: 1.1247\n",
      "RMSE: 1.1248\n",
      "RMSE: 1.1247\n",
      "150.0\n",
      "2018-12-04 16:58:59.302741\n",
      "RMSE: 1.1261\n",
      "RMSE: 1.1258\n",
      "RMSE: 1.1259\n",
      "RMSE: 1.1255\n",
      "RMSE: 1.1259\n",
      "RMSE: 1.1259\n",
      "RMSE: 1.1258\n",
      "RMSE: 1.1254\n",
      "RMSE: 1.1250\n",
      "RMSE: 1.1254\n",
      "RMSE: 1.1257\n",
      "RMSE: 1.1258\n",
      "RMSE: 1.1262\n",
      "RMSE: 1.1256\n",
      "RMSE: 1.1258\n",
      "RMSE: 1.1256\n",
      "RMSE: 1.1259\n",
      "RMSE: 1.1257\n",
      "RMSE: 1.1252\n",
      "RMSE: 1.1259\n",
      "RMSE: 1.1255\n",
      "RMSE: 1.1261\n",
      "RMSE: 1.1255\n",
      "RMSE: 1.1257\n",
      "RMSE: 1.1253\n",
      "175.0\n",
      "2018-12-04 17:22:59.949173\n",
      "RMSE: 1.1266\n",
      "RMSE: 1.1271\n",
      "RMSE: 1.1270\n",
      "RMSE: 1.1268\n",
      "RMSE: 1.1267\n",
      "RMSE: 1.1271\n",
      "RMSE: 1.1268\n",
      "RMSE: 1.1268\n",
      "RMSE: 1.1268\n",
      "RMSE: 1.1268\n",
      "RMSE: 1.1264\n",
      "RMSE: 1.1263\n",
      "RMSE: 1.1265\n",
      "RMSE: 1.1267\n",
      "RMSE: 1.1270\n",
      "RMSE: 1.1266\n",
      "RMSE: 1.1267\n",
      "RMSE: 1.1264\n",
      "RMSE: 1.1274\n",
      "RMSE: 1.1265\n",
      "RMSE: 1.1265\n",
      "RMSE: 1.1265\n",
      "RMSE: 1.1269\n",
      "RMSE: 1.1268\n",
      "RMSE: 1.1263\n"
     ]
    }
   ],
   "source": [
    "reader = Reader(rating_scale=(1, 5))\n",
    "data = Dataset.load_from_df(df[['people', 'movies', 'Prediction']], reader)\n",
    "best_accuracy = 1e6\n",
    "trainset, testset = train_test_split(data, test_size=0.2)\n",
    "\n",
    "#Parameters testing\n",
    "factors = np.linspace(50, 175, num = 6)\n",
    "learning_rates = np.linspace(0.001 , 0.1, num = 5)\n",
    "regularization_rates = np.linspace(0.001, 0.1, num = 5)\n",
    "#Besoin d'essayer n_echos?\n",
    "for factor in factors:\n",
    "    print(factor)\n",
    "    print(datetime.datetime.now())\n",
    "    for learning_rate in learning_rates:\n",
    "        for regularization_rate in regularization_rates:\n",
    "            algo = SVD(n_factors=int(factor), lr_all= int(learning_rate), reg_all=int(regularization_rate))\n",
    "            algo.fit(trainset)\n",
    "            predictions = algo.test(testset)\n",
    "            my_accuracy = accuracy.rmse(predictions, verbose=True)\n",
    "            if my_accuracy < best_accuracy:\n",
    "                best_set_up = (factor, learning_rate, regularization_rate)\n",
    "                best_accuracy = my_accuracy"
   ]
  },
  {
   "cell_type": "code",
   "execution_count": 11,
   "metadata": {},
   "outputs": [
    {
     "data": {
      "text/plain": [
       "(50.0, 0.1, 0.025750000000000002)"
      ]
     },
     "execution_count": 11,
     "metadata": {},
     "output_type": "execute_result"
    }
   ],
   "source": [
    "best_set_up"
   ]
  },
  {
   "cell_type": "code",
   "execution_count": 5,
   "metadata": {},
   "outputs": [
    {
     "data": {
      "text/plain": [
       "array([0.001  , 0.02575, 0.0505 , 0.07525, 0.1    ])"
      ]
     },
     "execution_count": 5,
     "metadata": {},
     "output_type": "execute_result"
    }
   ],
   "source": [
    "regularization_rates"
   ]
  },
  {
   "cell_type": "code",
   "execution_count": 12,
   "metadata": {},
   "outputs": [
    {
     "name": "stdout",
     "output_type": "stream",
     "text": [
      "User-based Model : Test Set\n",
      "RMSE: 1.1562\n"
     ]
    },
    {
     "data": {
      "text/plain": [
       "1.1562460875174616"
      ]
     },
     "execution_count": 12,
     "metadata": {},
     "output_type": "execute_result"
    }
   ],
   "source": [
    "data = Dataset.load_from_df(df[['people', 'movies', 'Prediction']], reader)\n",
    "trainset = data.build_full_trainset()\n",
    "algo = SVD(n_factors= 50, lr_all=0.1, reg_all=0.02575 )\n",
    "algo.fit(trainset)\n",
    "submission = toPredict[['people', 'movies', 'Prediction']]\n",
    "submission = submission.values.tolist()\n",
    "submission_pred = algo.test(submission)\n",
    "print(\"User-based Model : Test Set\")\n",
    "accuracy.rmse(submission_pred, verbose=True)"
   ]
  },
  {
   "cell_type": "code",
   "execution_count": 13,
   "metadata": {
    "scrolled": true
   },
   "outputs": [],
   "source": [
    "data = {'Id': ['r' + str(submission_pred[0].iid) + '_c' + str(submission_pred[0].uid)], 'Prediction': [str(submission_pred[0].est)]}\n",
    "for i in range(1, len(submission_pred)):\n",
    "    data['Id'].append('r' + str(submission_pred[i].iid) + '_c' + str(submission_pred[i].uid))\n",
    "    data['Prediction'].append(str(submission_pred[i].est))\n",
    "submission_df = pd.DataFrame(data)\n",
    "np.save('sub_SVD', submission_df)"
   ]
  },
  {
   "cell_type": "code",
   "execution_count": 38,
   "metadata": {},
   "outputs": [
    {
     "name": "stdout",
     "output_type": "stream",
     "text": [
      "User-based Model : Test Set\n",
      "RMSE: 1.0228\n"
     ]
    },
    {
     "data": {
      "text/plain": [
       "1.0228231567908375"
      ]
     },
     "execution_count": 38,
     "metadata": {},
     "output_type": "execute_result"
    }
   ],
   "source": [
    "# get RMSE\n",
    "print(\"User-based Model : Test Set\")\n",
    "accuracy.rmse(submission_pred, verbose=True)\n"
   ]
  },
  {
   "cell_type": "code",
   "execution_count": 14,
   "metadata": {},
   "outputs": [],
   "source": [
    "submission_df = np.load('sub.npy')\n",
    "submission_df = pd.DataFrame(submission_df)\n",
    "submission_df = submission_df.rename(columns={0 : 'Id', 1 : 'Prediction'})\n",
    "for index, row in submission_df.iterrows():\n",
    "     row.Prediction = round(float(row.Prediction))\n",
    "submission_df.to_csv(relative_path + '/submission.csv')"
   ]
  },
  {
   "cell_type": "code",
   "execution_count": 62,
   "metadata": {},
   "outputs": [
    {
     "data": {
      "text/plain": [
       "<module 'surprise.accuracy' from '/home/arnaud/anaconda3/lib/python3.7/site-packages/surprise/accuracy.py'>"
      ]
     },
     "execution_count": 62,
     "metadata": {},
     "output_type": "execute_result"
    }
   ],
   "source": [
    "accuracy"
   ]
  },
  {
   "cell_type": "code",
   "execution_count": null,
   "metadata": {},
   "outputs": [],
   "source": []
  }
 ],
 "metadata": {
  "kernelspec": {
   "display_name": "Python 2",
   "language": "python",
   "name": "python2"
  },
  "language_info": {
   "codemirror_mode": {
    "name": "ipython",
    "version": 3
   },
   "file_extension": ".py",
   "mimetype": "text/x-python",
   "name": "python",
   "nbconvert_exporter": "python",
   "pygments_lexer": "ipython3",
   "version": "3.6.6"
  }
 },
 "nbformat": 4,
 "nbformat_minor": 2
}
